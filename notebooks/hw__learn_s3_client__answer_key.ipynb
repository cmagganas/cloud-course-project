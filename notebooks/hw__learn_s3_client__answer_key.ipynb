{
 "cells": [
  {
   "cell_type": "markdown",
   "metadata": {},
   "source": [
    "# AWS S3 Operations using Boto3\n",
    "\n",
    "In this notebook, we will perform several operations on AWS S3 using Boto3. \n",
    "\n",
    "These operations include:\n",
    "\n",
    "- creating an S3 bucket\n",
    "- writing an object\n",
    "- listing objects\n",
    "- reading the contents of an object\n",
    "- deleting an object\n",
    "- updating an object\n",
    "- and handling errors for non-existent objects. \n",
    "  \n",
    "We will also demonstrate how to write files with different prefixes and query files by prefix.\n",
    "\n",
    "## For this notebook to run...\n",
    "\n",
    "You will need to have these libraries installed\n",
    "\n",
    "- `boto3`\n",
    "- `boto3-stubs[s3]`\n",
    "- `rich`\n",
    "- `ipykernel`\n",
    "\n",
    "The recommended approach is to set up your `pyproject.toml` like so:\n",
    "\n",
    "```toml\n",
    "[project]\n",
    "...\n",
    "dependencies = ['importlib-metadata; python_version<\"3.8\"', \"boto3\"]\n",
    "\n",
    "[project.optional-dependencies]\n",
    "stubs = [\"boto3-stubs[s3]\"]\n",
    "notebooks = [\"jupyterlab\", \"ipykernel\", \"rich\"]\n",
    "...\n",
    "dev = [\"cloud-course-project[test,release,static-code-qa,stubs,notebooks]\"]\n",
    "```\n",
    "\n",
    "So that `pip install --editable './[dev]'` will install all the necessary dependencies into your venv.\n",
    "\n",
    "## Instructions for setting up autocompletion in Jupyter Notebooks in VS Code\n",
    "\n",
    "1. Install the development dependencies:\n",
    "```sh\n",
    "pip install --editable './[dev]'\n",
    "```\n",
    "2. Select the notebook kernel and point it to your virtual environment:\n",
    "```sh\n",
    "which python\n",
    "```\n",
    "3. Select the VS Code Python interpreter and point it to your virtual environment:\n",
    "```sh\n",
    "which python\n",
    "```\n",
    "4. Reload the VS Code window (`Ctrl/Cmd + Shift + P` > `Developer: Reload Window`)\n"
   ]
  },
  {
   "cell_type": "code",
   "execution_count": 1,
   "metadata": {},
   "outputs": [],
   "source": [
    "# Import necessary libraries\n",
    "import boto3\n",
    "from botocore.exceptions import ClientError\n",
    "from uuid import uuid4  # randomly generated string\n",
    "from rich import print  # pretty printing\n",
    "import os\n",
    "from typing import Optional\n",
    "\n",
    "try:\n",
    "    from mypy_boto3_s3 import S3Client\n",
    "except ImportError:\n",
    "    print(\"mypy_boto3_s3 not installed\")"
   ]
  },
  {
   "cell_type": "code",
   "execution_count": 2,
   "metadata": {},
   "outputs": [
    {
     "data": {
      "text/html": [
       "<pre style=\"white-space:pre;overflow-x:auto;line-height:normal;font-family:Menlo,'DejaVu Sans Mono',consolas,'Courier New',monospace\">AWS_REGION: us-west-<span style=\"color: #008080; text-decoration-color: #008080; font-weight: bold\">2</span>\n",
       "</pre>\n"
      ],
      "text/plain": [
       "AWS_REGION: us-west-\u001b[1;36m2\u001b[0m\n"
      ]
     },
     "metadata": {},
     "output_type": "display_data"
    },
    {
     "data": {
      "text/html": [
       "<pre style=\"white-space:pre;overflow-x:auto;line-height:normal;font-family:Menlo,'DejaVu Sans Mono',consolas,'Courier New',monospace\"><span style=\"color: #808000; text-decoration-color: #808000\">BUCKET_NAME</span>=<span style=\"color: #008000; text-decoration-color: #008000\">'cloud-course-bucket-bf30'</span>\n",
       "</pre>\n"
      ],
      "text/plain": [
       "\u001b[33mBUCKET_NAME\u001b[0m=\u001b[32m'cloud-course-bucket-bf30'\u001b[0m\n"
      ]
     },
     "metadata": {},
     "output_type": "display_data"
    },
    {
     "data": {
      "text/html": [
       "<pre style=\"white-space:pre;overflow-x:auto;line-height:normal;font-family:Menlo,'DejaVu Sans Mono',consolas,'Courier New',monospace\"><span style=\"color: #808000; text-decoration-color: #808000\">EXAMPLE_OBJECT_KEY</span>=<span style=\"color: #008000; text-decoration-color: #008000\">'example/object/file.txt'</span>\n",
       "</pre>\n"
      ],
      "text/plain": [
       "\u001b[33mEXAMPLE_OBJECT_KEY\u001b[0m=\u001b[32m'example/object/file.txt'\u001b[0m\n"
      ]
     },
     "metadata": {},
     "output_type": "display_data"
    },
    {
     "data": {
      "text/html": [
       "<pre style=\"white-space:pre;overflow-x:auto;line-height:normal;font-family:Menlo,'DejaVu Sans Mono',consolas,'Courier New',monospace\"><span style=\"color: #808000; text-decoration-color: #808000\">EXAMPLE_OBJECT_CONTENT</span>=<span style=\"color: #008000; text-decoration-color: #008000\">'This is a test object.'</span>\n",
       "</pre>\n"
      ],
      "text/plain": [
       "\u001b[33mEXAMPLE_OBJECT_CONTENT\u001b[0m=\u001b[32m'This is a test object.'\u001b[0m\n"
      ]
     },
     "metadata": {},
     "output_type": "display_data"
    }
   ],
   "source": [
    "# define constants\n",
    "\n",
    "# Set the profile and region for the AWS SDK (boto3) to use\n",
    "os.environ[\"AWS_PROFILE\"] = \"cloud-course\"\n",
    "os.environ[\"AWS_REGION\"] = \"us-west-2\"  # Add your region here, like \"ap-south-1\"\n",
    "\n",
    "# Access the AWS_REGION variable\n",
    "aws_region = os.environ.get(\"AWS_REGION\", \"us-west-2\")\n",
    "print(f\"AWS_REGION: {aws_region}\")\n",
    "\n",
    "\n",
    "# Create a session using the specified profile and region\n",
    "s3_client: \"S3Client\" = boto3.client(\"s3\")\n",
    "\n",
    "BUCKET_NAME = f\"cloud-course-bucket-{str(uuid4())[:4]}\"\n",
    "\n",
    "# Single example object\n",
    "EXAMPLE_OBJECT_KEY = \"example/object/file.txt\"\n",
    "EXAMPLE_OBJECT_CONTENT = \"This is a test object.\"\n",
    "\n",
    "# Multiple example objects\n",
    "EXAMPLE_OBJECTS = [\n",
    "    (\"example-a/object/file1.txt\", \"This is a test object.\"),\n",
    "    (\"example-a/object/file2.txt\", \"This is another test object.\"),\n",
    "    (\"example-a/object/file3.txt\", \"This is yet another test object.\"),\n",
    "    (\"example-b/object/file1.txt\", \"This is a test object.\"),\n",
    "    (\"example-b/object/file2.txt\", \"This is another test object.\"),\n",
    "    (\"example-b/object/file3.txt\", \"This is yet another test object.\"),\n",
    "]\n",
    "\n",
    "print(f\"{BUCKET_NAME=}\")\n",
    "print(f\"{EXAMPLE_OBJECT_KEY=}\")\n",
    "print(f\"{EXAMPLE_OBJECT_CONTENT=}\")"
   ]
  },
  {
   "cell_type": "markdown",
   "metadata": {},
   "source": [
    "## Create a bucket\n",
    "\n",
    "In this exercise, you will create an S3 bucket."
   ]
  },
  {
   "cell_type": "code",
   "execution_count": 3,
   "metadata": {},
   "outputs": [
    {
     "data": {
      "text/html": [
       "<pre style=\"white-space:pre;overflow-x:auto;line-height:normal;font-family:Menlo,'DejaVu Sans Mono',consolas,'Courier New',monospace\">Bucket <span style=\"color: #008000; text-decoration-color: #008000\">'cloud-course-bucket-bf30'</span> created successfully.\n",
       "</pre>\n"
      ],
      "text/plain": [
       "Bucket \u001b[32m'cloud-course-bucket-bf30'\u001b[0m created successfully.\n"
      ]
     },
     "metadata": {},
     "output_type": "display_data"
    },
    {
     "data": {
      "text/html": [
       "<pre style=\"white-space:pre;overflow-x:auto;line-height:normal;font-family:Menlo,'DejaVu Sans Mono',consolas,'Courier New',monospace\"><span style=\"font-weight: bold\">{</span>\n",
       "    <span style=\"color: #008000; text-decoration-color: #008000\">'ResponseMetadata'</span>: <span style=\"font-weight: bold\">{</span>\n",
       "        <span style=\"color: #008000; text-decoration-color: #008000\">'RequestId'</span>: <span style=\"color: #008000; text-decoration-color: #008000\">'7W927VJYRMZ66MHG'</span>,\n",
       "        <span style=\"color: #008000; text-decoration-color: #008000\">'HostId'</span>: <span style=\"color: #008000; text-decoration-color: #008000\">'XfuQDSS04L3bm/r3/FpmWmclmG43mGBFxnYNIn2z+af6mFnMrhdnF/ySPfMBA0ZHyxe7OkomGUI='</span>,\n",
       "        <span style=\"color: #008000; text-decoration-color: #008000\">'HTTPStatusCode'</span>: <span style=\"color: #008080; text-decoration-color: #008080; font-weight: bold\">200</span>,\n",
       "        <span style=\"color: #008000; text-decoration-color: #008000\">'HTTPHeaders'</span>: <span style=\"font-weight: bold\">{</span>\n",
       "            <span style=\"color: #008000; text-decoration-color: #008000\">'x-amz-id-2'</span>: <span style=\"color: #008000; text-decoration-color: #008000\">'XfuQDSS04L3bm/r3/FpmWmclmG43mGBFxnYNIn2z+af6mFnMrhdnF/ySPfMBA0ZHyxe7OkomGUI='</span>,\n",
       "            <span style=\"color: #008000; text-decoration-color: #008000\">'x-amz-request-id'</span>: <span style=\"color: #008000; text-decoration-color: #008000\">'7W927VJYRMZ66MHG'</span>,\n",
       "            <span style=\"color: #008000; text-decoration-color: #008000\">'date'</span>: <span style=\"color: #008000; text-decoration-color: #008000\">'Thu, 05 Sep 2024 03:29:57 GMT'</span>,\n",
       "            <span style=\"color: #008000; text-decoration-color: #008000\">'location'</span>: <span style=\"color: #008000; text-decoration-color: #008000\">'http://cloud-course-bucket-bf30.s3.amazonaws.com/'</span>,\n",
       "            <span style=\"color: #008000; text-decoration-color: #008000\">'server'</span>: <span style=\"color: #008000; text-decoration-color: #008000\">'AmazonS3'</span>,\n",
       "            <span style=\"color: #008000; text-decoration-color: #008000\">'content-length'</span>: <span style=\"color: #008000; text-decoration-color: #008000\">'0'</span>\n",
       "        <span style=\"font-weight: bold\">}</span>,\n",
       "        <span style=\"color: #008000; text-decoration-color: #008000\">'RetryAttempts'</span>: <span style=\"color: #008080; text-decoration-color: #008080; font-weight: bold\">0</span>\n",
       "    <span style=\"font-weight: bold\">}</span>,\n",
       "    <span style=\"color: #008000; text-decoration-color: #008000\">'Location'</span>: <span style=\"color: #008000; text-decoration-color: #008000\">'http://cloud-course-bucket-bf30.s3.amazonaws.com/'</span>\n",
       "<span style=\"font-weight: bold\">}</span>\n",
       "</pre>\n"
      ],
      "text/plain": [
       "\u001b[1m{\u001b[0m\n",
       "    \u001b[32m'ResponseMetadata'\u001b[0m: \u001b[1m{\u001b[0m\n",
       "        \u001b[32m'RequestId'\u001b[0m: \u001b[32m'7W927VJYRMZ66MHG'\u001b[0m,\n",
       "        \u001b[32m'HostId'\u001b[0m: \u001b[32m'XfuQDSS04L3bm/r3/FpmWmclmG43mGBFxnYNIn2z+af6mFnMrhdnF/\u001b[0m\u001b[32mySPfMBA0ZHyxe7OkomGUI\u001b[0m\u001b[32m='\u001b[0m,\n",
       "        \u001b[32m'HTTPStatusCode'\u001b[0m: \u001b[1;36m200\u001b[0m,\n",
       "        \u001b[32m'HTTPHeaders'\u001b[0m: \u001b[1m{\u001b[0m\n",
       "            \u001b[32m'x-amz-id-2'\u001b[0m: \u001b[32m'XfuQDSS04L3bm/r3/FpmWmclmG43mGBFxnYNIn2z+af6mFnMrhdnF/\u001b[0m\u001b[32mySPfMBA0ZHyxe7OkomGUI\u001b[0m\u001b[32m='\u001b[0m,\n",
       "            \u001b[32m'x-amz-request-id'\u001b[0m: \u001b[32m'7W927VJYRMZ66MHG'\u001b[0m,\n",
       "            \u001b[32m'date'\u001b[0m: \u001b[32m'Thu, 05 Sep 2024 03:29:57 GMT'\u001b[0m,\n",
       "            \u001b[32m'location'\u001b[0m: \u001b[32m'http://cloud-course-bucket-bf30.s3.amazonaws.com/'\u001b[0m,\n",
       "            \u001b[32m'server'\u001b[0m: \u001b[32m'AmazonS3'\u001b[0m,\n",
       "            \u001b[32m'content-length'\u001b[0m: \u001b[32m'0'\u001b[0m\n",
       "        \u001b[1m}\u001b[0m,\n",
       "        \u001b[32m'RetryAttempts'\u001b[0m: \u001b[1;36m0\u001b[0m\n",
       "    \u001b[1m}\u001b[0m,\n",
       "    \u001b[32m'Location'\u001b[0m: \u001b[32m'http://cloud-course-bucket-bf30.s3.amazonaws.com/'\u001b[0m\n",
       "\u001b[1m}\u001b[0m\n"
      ]
     },
     "metadata": {},
     "output_type": "display_data"
    }
   ],
   "source": [
    "try:\n",
    "    from mypy_boto3_s3.type_defs import CreateBucketOutputTypeDef\n",
    "except ImportError:\n",
    "    print(\"boto3-stubs[s3] not installed\")\n",
    "\n",
    "\n",
    "def create_bucket(bucket_name: str) -> Optional[\"CreateBucketOutputTypeDef\"]:\n",
    "    \"\"\"\n",
    "    Create an S3 bucket.\n",
    "\n",
    "    :param bucket_name: Name of the bucket to create\n",
    "    :type bucket_name: str\n",
    "    \"\"\"\n",
    "    response = s3_client.create_bucket(\n",
    "        Bucket=bucket_name,\n",
    "        CreateBucketConfiguration={\"LocationConstraint\": aws_region},\n",
    "    )\n",
    "    return response\n",
    "\n",
    "\n",
    "# Create the bucket\n",
    "response = create_bucket(bucket_name=BUCKET_NAME)\n",
    "print(f\"Bucket '{BUCKET_NAME}' created successfully.\")\n",
    "print(response)"
   ]
  },
  {
   "cell_type": "markdown",
   "metadata": {},
   "source": [
    "## Write an object to the bucket\n",
    "\n",
    "In this exercise, you will write an object to the S3 bucket.\n",
    "\n",
    "\"S3 Paths\" are URLs of the form `s3://bucket-name/key`. The `key` is the path to the object in the bucket. For example, `s3://my-bucket-name/my-key` refers to the object with key `my-key` in the bucket `my-bucket-name`.\n",
    "\n",
    "Some examples:\n",
    "\n",
    "| Path | Bucket | Object Key |\n",
    "| --- | --- | --- |\n",
    "| `s3://my-bucket/images/profile.jpeg` | `my-bucket` | `images/profile.jpeg` |\n",
    "| `s3://my-bucket/data/2021/01/01/data.csv` | `my-bucket` | `data/2021/01/01/data.csv` |\n",
    "| `s3://my-bucket/file.json` | `my-bucket` | `file.json` |\n"
   ]
  },
  {
   "cell_type": "code",
   "execution_count": 4,
   "metadata": {},
   "outputs": [
    {
     "data": {
      "text/html": [
       "<pre style=\"white-space:pre;overflow-x:auto;line-height:normal;font-family:Menlo,'DejaVu Sans Mono',consolas,'Courier New',monospace\"><span style=\"font-weight: bold\">{</span>\n",
       "    <span style=\"color: #008000; text-decoration-color: #008000\">'ResponseMetadata'</span>: <span style=\"font-weight: bold\">{</span>\n",
       "        <span style=\"color: #008000; text-decoration-color: #008000\">'RequestId'</span>: <span style=\"color: #008000; text-decoration-color: #008000\">'TAHYETBBV5TACF4S'</span>,\n",
       "        <span style=\"color: #008000; text-decoration-color: #008000\">'HostId'</span>: <span style=\"color: #008000; text-decoration-color: #008000\">'DNFg8kgXyvlqrkuPowt6IWzl66HoJora3S6ylshqEKb1mA0JrWLfucIryn1noFiW9apVksxsTt4='</span>,\n",
       "        <span style=\"color: #008000; text-decoration-color: #008000\">'HTTPStatusCode'</span>: <span style=\"color: #008080; text-decoration-color: #008080; font-weight: bold\">200</span>,\n",
       "        <span style=\"color: #008000; text-decoration-color: #008000\">'HTTPHeaders'</span>: <span style=\"font-weight: bold\">{</span>\n",
       "            <span style=\"color: #008000; text-decoration-color: #008000\">'x-amz-id-2'</span>: <span style=\"color: #008000; text-decoration-color: #008000\">'DNFg8kgXyvlqrkuPowt6IWzl66HoJora3S6ylshqEKb1mA0JrWLfucIryn1noFiW9apVksxsTt4='</span>,\n",
       "            <span style=\"color: #008000; text-decoration-color: #008000\">'x-amz-request-id'</span>: <span style=\"color: #008000; text-decoration-color: #008000\">'TAHYETBBV5TACF4S'</span>,\n",
       "            <span style=\"color: #008000; text-decoration-color: #008000\">'date'</span>: <span style=\"color: #008000; text-decoration-color: #008000\">'Thu, 05 Sep 2024 03:29:59 GMT'</span>,\n",
       "            <span style=\"color: #008000; text-decoration-color: #008000\">'x-amz-server-side-encryption'</span>: <span style=\"color: #008000; text-decoration-color: #008000\">'AES256'</span>,\n",
       "            <span style=\"color: #008000; text-decoration-color: #008000\">'etag'</span>: <span style=\"color: #008000; text-decoration-color: #008000\">'\"fac2cbcd7b7417c0325922b689019c65\"'</span>,\n",
       "            <span style=\"color: #008000; text-decoration-color: #008000\">'server'</span>: <span style=\"color: #008000; text-decoration-color: #008000\">'AmazonS3'</span>,\n",
       "            <span style=\"color: #008000; text-decoration-color: #008000\">'content-length'</span>: <span style=\"color: #008000; text-decoration-color: #008000\">'0'</span>\n",
       "        <span style=\"font-weight: bold\">}</span>,\n",
       "        <span style=\"color: #008000; text-decoration-color: #008000\">'RetryAttempts'</span>: <span style=\"color: #008080; text-decoration-color: #008080; font-weight: bold\">0</span>\n",
       "    <span style=\"font-weight: bold\">}</span>,\n",
       "    <span style=\"color: #008000; text-decoration-color: #008000\">'ETag'</span>: <span style=\"color: #008000; text-decoration-color: #008000\">'\"fac2cbcd7b7417c0325922b689019c65\"'</span>,\n",
       "    <span style=\"color: #008000; text-decoration-color: #008000\">'ServerSideEncryption'</span>: <span style=\"color: #008000; text-decoration-color: #008000\">'AES256'</span>\n",
       "<span style=\"font-weight: bold\">}</span>\n",
       "</pre>\n"
      ],
      "text/plain": [
       "\u001b[1m{\u001b[0m\n",
       "    \u001b[32m'ResponseMetadata'\u001b[0m: \u001b[1m{\u001b[0m\n",
       "        \u001b[32m'RequestId'\u001b[0m: \u001b[32m'TAHYETBBV5TACF4S'\u001b[0m,\n",
       "        \u001b[32m'HostId'\u001b[0m: \u001b[32m'DNFg8kgXyvlqrkuPowt6IWzl6\u001b[0m\u001b[32m6HoJora3S6ylshqEKb1mA0JrWLfucIryn1noFiW9apVksxsTt4\u001b[0m\u001b[32m='\u001b[0m,\n",
       "        \u001b[32m'HTTPStatusCode'\u001b[0m: \u001b[1;36m200\u001b[0m,\n",
       "        \u001b[32m'HTTPHeaders'\u001b[0m: \u001b[1m{\u001b[0m\n",
       "            \u001b[32m'x-amz-id-2'\u001b[0m: \u001b[32m'DNFg8kgXyvlqrkuPowt6IWzl6\u001b[0m\u001b[32m6HoJora3S6ylshqEKb1mA0JrWLfucIryn1noFiW9apVksxsTt4\u001b[0m\u001b[32m='\u001b[0m,\n",
       "            \u001b[32m'x-amz-request-id'\u001b[0m: \u001b[32m'TAHYETBBV5TACF4S'\u001b[0m,\n",
       "            \u001b[32m'date'\u001b[0m: \u001b[32m'Thu, 05 Sep 2024 03:29:59 GMT'\u001b[0m,\n",
       "            \u001b[32m'x-amz-server-side-encryption'\u001b[0m: \u001b[32m'AES256'\u001b[0m,\n",
       "            \u001b[32m'etag'\u001b[0m: \u001b[32m'\"fac2cbcd7b7417c0325922b689019c65\"'\u001b[0m,\n",
       "            \u001b[32m'server'\u001b[0m: \u001b[32m'AmazonS3'\u001b[0m,\n",
       "            \u001b[32m'content-length'\u001b[0m: \u001b[32m'0'\u001b[0m\n",
       "        \u001b[1m}\u001b[0m,\n",
       "        \u001b[32m'RetryAttempts'\u001b[0m: \u001b[1;36m0\u001b[0m\n",
       "    \u001b[1m}\u001b[0m,\n",
       "    \u001b[32m'ETag'\u001b[0m: \u001b[32m'\"fac2cbcd7b7417c0325922b689019c65\"'\u001b[0m,\n",
       "    \u001b[32m'ServerSideEncryption'\u001b[0m: \u001b[32m'AES256'\u001b[0m\n",
       "\u001b[1m}\u001b[0m\n"
      ]
     },
     "metadata": {},
     "output_type": "display_data"
    },
    {
     "data": {
      "text/html": [
       "<pre style=\"white-space:pre;overflow-x:auto;line-height:normal;font-family:Menlo,'DejaVu Sans Mono',consolas,'Courier New',monospace\">Writing object to path <span style=\"color: #008000; text-decoration-color: #008000\">'s3://cloud-course-bucket-bf30/example-a/object/file1.txt'</span>\n",
       "</pre>\n"
      ],
      "text/plain": [
       "Writing object to path \u001b[32m's3://cloud-course-bucket-bf30/example-a/object/file1.txt'\u001b[0m\n"
      ]
     },
     "metadata": {},
     "output_type": "display_data"
    },
    {
     "data": {
      "text/html": [
       "<pre style=\"white-space:pre;overflow-x:auto;line-height:normal;font-family:Menlo,'DejaVu Sans Mono',consolas,'Courier New',monospace\">Writing object to path <span style=\"color: #008000; text-decoration-color: #008000\">'s3://cloud-course-bucket-bf30/example-a/object/file2.txt'</span>\n",
       "</pre>\n"
      ],
      "text/plain": [
       "Writing object to path \u001b[32m's3://cloud-course-bucket-bf30/example-a/object/file2.txt'\u001b[0m\n"
      ]
     },
     "metadata": {},
     "output_type": "display_data"
    },
    {
     "data": {
      "text/html": [
       "<pre style=\"white-space:pre;overflow-x:auto;line-height:normal;font-family:Menlo,'DejaVu Sans Mono',consolas,'Courier New',monospace\">Writing object to path <span style=\"color: #008000; text-decoration-color: #008000\">'s3://cloud-course-bucket-bf30/example-a/object/file3.txt'</span>\n",
       "</pre>\n"
      ],
      "text/plain": [
       "Writing object to path \u001b[32m's3://cloud-course-bucket-bf30/example-a/object/file3.txt'\u001b[0m\n"
      ]
     },
     "metadata": {},
     "output_type": "display_data"
    },
    {
     "data": {
      "text/html": [
       "<pre style=\"white-space:pre;overflow-x:auto;line-height:normal;font-family:Menlo,'DejaVu Sans Mono',consolas,'Courier New',monospace\">Writing object to path <span style=\"color: #008000; text-decoration-color: #008000\">'s3://cloud-course-bucket-bf30/example-b/object/file1.txt'</span>\n",
       "</pre>\n"
      ],
      "text/plain": [
       "Writing object to path \u001b[32m's3://cloud-course-bucket-bf30/example-b/object/file1.txt'\u001b[0m\n"
      ]
     },
     "metadata": {},
     "output_type": "display_data"
    },
    {
     "data": {
      "text/html": [
       "<pre style=\"white-space:pre;overflow-x:auto;line-height:normal;font-family:Menlo,'DejaVu Sans Mono',consolas,'Courier New',monospace\">Writing object to path <span style=\"color: #008000; text-decoration-color: #008000\">'s3://cloud-course-bucket-bf30/example-b/object/file2.txt'</span>\n",
       "</pre>\n"
      ],
      "text/plain": [
       "Writing object to path \u001b[32m's3://cloud-course-bucket-bf30/example-b/object/file2.txt'\u001b[0m\n"
      ]
     },
     "metadata": {},
     "output_type": "display_data"
    },
    {
     "data": {
      "text/html": [
       "<pre style=\"white-space:pre;overflow-x:auto;line-height:normal;font-family:Menlo,'DejaVu Sans Mono',consolas,'Courier New',monospace\">Writing object to path <span style=\"color: #008000; text-decoration-color: #008000\">'s3://cloud-course-bucket-bf30/example-b/object/file3.txt'</span>\n",
       "</pre>\n"
      ],
      "text/plain": [
       "Writing object to path \u001b[32m's3://cloud-course-bucket-bf30/example-b/object/file3.txt'\u001b[0m\n"
      ]
     },
     "metadata": {},
     "output_type": "display_data"
    }
   ],
   "source": [
    "try:\n",
    "    from mypy_boto3_s3.type_defs import PutObjectOutputTypeDef\n",
    "except ImportError:\n",
    "    print(\"boto3-stubs[s3] not installed\")\n",
    "\n",
    "\n",
    "def write_text_object_to_s3(\n",
    "    bucket_name: str,\n",
    "    object_key: str,\n",
    "    object_content: str,\n",
    ") -> Optional[\"PutObjectOutputTypeDef\"]:\n",
    "    \"\"\"\n",
    "    Write an object to an S3 bucket.\n",
    "\n",
    "    :param bucket_name: Name of the bucket to write to\n",
    "    :param object_key: Key of the object to write\n",
    "    :param object_content: Content of the object to write\n",
    "    :return: Response from the put_object call\n",
    "    \"\"\"\n",
    "    response = s3_client.put_object(Bucket=bucket_name, Key=object_key, Body=object_content)\n",
    "    return response\n",
    "\n",
    "\n",
    "# Write the single example to S3\n",
    "response = write_text_object_to_s3(\n",
    "    bucket_name=BUCKET_NAME,\n",
    "    object_key=EXAMPLE_OBJECT_KEY,\n",
    "    object_content=EXAMPLE_OBJECT_CONTENT,\n",
    ")\n",
    "print(response)\n",
    "\n",
    "# Write the rest of the examples to S3\n",
    "for object_key, object_content in EXAMPLE_OBJECTS:\n",
    "    print(f\"Writing object to path 's3://{BUCKET_NAME}/{object_key}'\")\n",
    "    write_text_object_to_s3(\n",
    "        bucket_name=BUCKET_NAME,\n",
    "        object_key=object_key,\n",
    "        object_content=object_content,\n",
    "    )"
   ]
  },
  {
   "cell_type": "markdown",
   "metadata": {},
   "source": [
    "## Read the content of an object\n",
    "\n",
    "In this exercise, you will read the content of an object from the S3 bucket."
   ]
  },
  {
   "cell_type": "code",
   "execution_count": 5,
   "metadata": {},
   "outputs": [
    {
     "data": {
      "text/html": [
       "<pre style=\"white-space:pre;overflow-x:auto;line-height:normal;font-family:Menlo,'DejaVu Sans Mono',consolas,'Courier New',monospace\">Content of object <span style=\"color: #008000; text-decoration-color: #008000\">'example/object/file.txt'</span>:\n",
       "<span style=\"color: #008000; text-decoration-color: #008000\">'This is a test object.'</span>\n",
       "</pre>\n"
      ],
      "text/plain": [
       "Content of object \u001b[32m'example/object/file.txt'\u001b[0m:\n",
       "\u001b[32m'This is a test object.'\u001b[0m\n"
      ]
     },
     "metadata": {},
     "output_type": "display_data"
    }
   ],
   "source": [
    "from botocore.response import StreamingBody\n",
    "\n",
    "\n",
    "def read_text_object_from_s3(bucket_name: str, object_key: str, verbose: bool = False) -> str | None:\n",
    "    \"\"\"\n",
    "    Read the content of an object from an S3 bucket.\n",
    "\n",
    "    :param bucket_name: Name of the bucket to read from\n",
    "    :param object_key: Key of the object to read\n",
    "    :return: Content of the object\n",
    "    \"\"\"\n",
    "    response = s3_client.get_object(Bucket=bucket_name, Key=object_key)\n",
    "\n",
    "    # Note, we need to read the bytestream from the blob and choose how we wish\n",
    "    # to interpret the bytes. In this case, we interpret them as utf-8 encoded text.\n",
    "    content_streaming_body: StreamingBody = response[\"Body\"]\n",
    "    content: str = content_streaming_body.read().decode(\"utf-8\")\n",
    "    return content\n",
    "\n",
    "\n",
    "# Read the content of the example object\n",
    "content = read_text_object_from_s3(BUCKET_NAME, EXAMPLE_OBJECT_KEY)\n",
    "if content:\n",
    "    print(f\"Content of object '{EXAMPLE_OBJECT_KEY}':\\n'{content}'\")"
   ]
  },
  {
   "cell_type": "markdown",
   "metadata": {},
   "source": [
    "## Exercise #1 - List objects in the bucket\n",
    "\n",
    "What if there were more than 1,000 objects in the bucket? How would you list all of them?\n",
    "\n",
    "Hints\n",
    "- Look into [\"boto3 paginators\"](https://boto3.amazonaws.com/v1/documentation/api/latest/guide/paginators.html#creating-paginators)\n",
    "- OR Look into the [boto3 \"resource API\"](https://boto3.amazonaws.com/v1/documentation/api/latest/guide/resources.html#resources), a powerful, but potentially less performant, object-oriented way\n",
    "  of interacting with AWS resources via boto3\n",
    "- OR consider using \"Continuation Tokens\" with the `list_objects_v2` method."
   ]
  },
  {
   "cell_type": "code",
   "execution_count": 6,
   "metadata": {},
   "outputs": [
    {
     "data": {
      "text/html": [
       "<pre style=\"white-space:pre;overflow-x:auto;line-height:normal;font-family:Menlo,'DejaVu Sans Mono',consolas,'Courier New',monospace\">Objects in bucket:\n",
       "</pre>\n"
      ],
      "text/plain": [
       "Objects in bucket:\n"
      ]
     },
     "metadata": {},
     "output_type": "display_data"
    },
    {
     "data": {
      "text/html": [
       "<pre style=\"white-space:pre;overflow-x:auto;line-height:normal;font-family:Menlo,'DejaVu Sans Mono',consolas,'Courier New',monospace\"> - example-a/object/file1.txt\n",
       "</pre>\n"
      ],
      "text/plain": [
       " - example-a/object/file1.txt\n"
      ]
     },
     "metadata": {},
     "output_type": "display_data"
    },
    {
     "data": {
      "text/html": [
       "<pre style=\"white-space:pre;overflow-x:auto;line-height:normal;font-family:Menlo,'DejaVu Sans Mono',consolas,'Courier New',monospace\"> - example-a/object/file2.txt\n",
       "</pre>\n"
      ],
      "text/plain": [
       " - example-a/object/file2.txt\n"
      ]
     },
     "metadata": {},
     "output_type": "display_data"
    },
    {
     "data": {
      "text/html": [
       "<pre style=\"white-space:pre;overflow-x:auto;line-height:normal;font-family:Menlo,'DejaVu Sans Mono',consolas,'Courier New',monospace\"> - example-a/object/file3.txt\n",
       "</pre>\n"
      ],
      "text/plain": [
       " - example-a/object/file3.txt\n"
      ]
     },
     "metadata": {},
     "output_type": "display_data"
    },
    {
     "data": {
      "text/html": [
       "<pre style=\"white-space:pre;overflow-x:auto;line-height:normal;font-family:Menlo,'DejaVu Sans Mono',consolas,'Courier New',monospace\"> - example-b/object/file1.txt\n",
       "</pre>\n"
      ],
      "text/plain": [
       " - example-b/object/file1.txt\n"
      ]
     },
     "metadata": {},
     "output_type": "display_data"
    },
    {
     "data": {
      "text/html": [
       "<pre style=\"white-space:pre;overflow-x:auto;line-height:normal;font-family:Menlo,'DejaVu Sans Mono',consolas,'Courier New',monospace\"> - example-b/object/file2.txt\n",
       "</pre>\n"
      ],
      "text/plain": [
       " - example-b/object/file2.txt\n"
      ]
     },
     "metadata": {},
     "output_type": "display_data"
    },
    {
     "data": {
      "text/html": [
       "<pre style=\"white-space:pre;overflow-x:auto;line-height:normal;font-family:Menlo,'DejaVu Sans Mono',consolas,'Courier New',monospace\"> - example-b/object/file3.txt\n",
       "</pre>\n"
      ],
      "text/plain": [
       " - example-b/object/file3.txt\n"
      ]
     },
     "metadata": {},
     "output_type": "display_data"
    },
    {
     "data": {
      "text/html": [
       "<pre style=\"white-space:pre;overflow-x:auto;line-height:normal;font-family:Menlo,'DejaVu Sans Mono',consolas,'Courier New',monospace\"> - example/object/file.txt\n",
       "</pre>\n"
      ],
      "text/plain": [
       " - example/object/file.txt\n"
      ]
     },
     "metadata": {},
     "output_type": "display_data"
    }
   ],
   "source": [
    "try:\n",
    "    from mypy_boto3_s3.type_defs import ListObjectsV2OutputTypeDef\n",
    "except ImportError:\n",
    "    print(\"boto3-stubs[s3] not installed\")\n",
    "\n",
    "\n",
    "def list_all_object_keys_in_bucket(bucket_name: str) -> list[str]:\n",
    "    \"\"\"\n",
    "    List all objects in an S3 bucket.\n",
    "\n",
    "    :param bucket_name: Name of the bucket to list objects from\n",
    "    :return: List of object keys\n",
    "    \"\"\"\n",
    "    objects = []\n",
    "    continuation_token = None\n",
    "    while True:\n",
    "        response: \"ListObjectsV2OutputTypeDef\" = (\n",
    "            s3_client.list_objects_v2(Bucket=bucket_name, ContinuationToken=continuation_token)\n",
    "            if continuation_token\n",
    "            else s3_client.list_objects_v2(Bucket=bucket_name)\n",
    "        )\n",
    "        objects.extend([obj[\"Key\"] for obj in response.get(\"Contents\", [])])\n",
    "        continuation_token = response.get(\"NextContinuationToken\")\n",
    "        if not continuation_token:\n",
    "            break\n",
    "    return objects\n",
    "\n",
    "\n",
    "# List all objects in the bucket\n",
    "objects = list_all_object_keys_in_bucket(BUCKET_NAME)\n",
    "if objects:\n",
    "    print(\"Objects in bucket:\")\n",
    "    for obj in objects:\n",
    "        print(f\" - {obj}\")"
   ]
  },
  {
   "cell_type": "markdown",
   "metadata": {},
   "source": [
    "## Exercise #2 - Update the object (overwrite with new content)\n",
    "\n",
    "In this exercise, you will update the content of an existing object in the S3 bucket."
   ]
  },
  {
   "cell_type": "code",
   "execution_count": 7,
   "metadata": {},
   "outputs": [
    {
     "data": {
      "text/html": [
       "<pre style=\"white-space:pre;overflow-x:auto;line-height:normal;font-family:Menlo,'DejaVu Sans Mono',consolas,'Courier New',monospace\"><span style=\"font-weight: bold\">{</span>\n",
       "    <span style=\"color: #008000; text-decoration-color: #008000\">'ResponseMetadata'</span>: <span style=\"font-weight: bold\">{</span>\n",
       "        <span style=\"color: #008000; text-decoration-color: #008000\">'RequestId'</span>: <span style=\"color: #008000; text-decoration-color: #008000\">'15YAMC09CY3XJ80Y'</span>,\n",
       "        <span style=\"color: #008000; text-decoration-color: #008000\">'HostId'</span>: <span style=\"color: #008000; text-decoration-color: #008000\">'icMX1F0mBDNCneSB/SJqb4grmgRSeYS6Lzi1Bi1ZzgdSTLY+M5Z1epK0Vhnw/MIMkNJvkMu3Y1k='</span>,\n",
       "        <span style=\"color: #008000; text-decoration-color: #008000\">'HTTPStatusCode'</span>: <span style=\"color: #008080; text-decoration-color: #008080; font-weight: bold\">200</span>,\n",
       "        <span style=\"color: #008000; text-decoration-color: #008000\">'HTTPHeaders'</span>: <span style=\"font-weight: bold\">{</span>\n",
       "            <span style=\"color: #008000; text-decoration-color: #008000\">'x-amz-id-2'</span>: <span style=\"color: #008000; text-decoration-color: #008000\">'icMX1F0mBDNCneSB/SJqb4grmgRSeYS6Lzi1Bi1ZzgdSTLY+M5Z1epK0Vhnw/MIMkNJvkMu3Y1k='</span>,\n",
       "            <span style=\"color: #008000; text-decoration-color: #008000\">'x-amz-request-id'</span>: <span style=\"color: #008000; text-decoration-color: #008000\">'15YAMC09CY3XJ80Y'</span>,\n",
       "            <span style=\"color: #008000; text-decoration-color: #008000\">'date'</span>: <span style=\"color: #008000; text-decoration-color: #008000\">'Thu, 05 Sep 2024 03:30:06 GMT'</span>,\n",
       "            <span style=\"color: #008000; text-decoration-color: #008000\">'x-amz-server-side-encryption'</span>: <span style=\"color: #008000; text-decoration-color: #008000\">'AES256'</span>,\n",
       "            <span style=\"color: #008000; text-decoration-color: #008000\">'etag'</span>: <span style=\"color: #008000; text-decoration-color: #008000\">'\"c5a01ee632fac2f88da9e0aa5a3d8cdd\"'</span>,\n",
       "            <span style=\"color: #008000; text-decoration-color: #008000\">'server'</span>: <span style=\"color: #008000; text-decoration-color: #008000\">'AmazonS3'</span>,\n",
       "            <span style=\"color: #008000; text-decoration-color: #008000\">'content-length'</span>: <span style=\"color: #008000; text-decoration-color: #008000\">'0'</span>\n",
       "        <span style=\"font-weight: bold\">}</span>,\n",
       "        <span style=\"color: #008000; text-decoration-color: #008000\">'RetryAttempts'</span>: <span style=\"color: #008080; text-decoration-color: #008080; font-weight: bold\">0</span>\n",
       "    <span style=\"font-weight: bold\">}</span>,\n",
       "    <span style=\"color: #008000; text-decoration-color: #008000\">'ETag'</span>: <span style=\"color: #008000; text-decoration-color: #008000\">'\"c5a01ee632fac2f88da9e0aa5a3d8cdd\"'</span>,\n",
       "    <span style=\"color: #008000; text-decoration-color: #008000\">'ServerSideEncryption'</span>: <span style=\"color: #008000; text-decoration-color: #008000\">'AES256'</span>\n",
       "<span style=\"font-weight: bold\">}</span>\n",
       "</pre>\n"
      ],
      "text/plain": [
       "\u001b[1m{\u001b[0m\n",
       "    \u001b[32m'ResponseMetadata'\u001b[0m: \u001b[1m{\u001b[0m\n",
       "        \u001b[32m'RequestId'\u001b[0m: \u001b[32m'15YAMC09CY3XJ80Y'\u001b[0m,\n",
       "        \u001b[32m'HostId'\u001b[0m: \u001b[32m'icMX1F0mBDNCneSB/SJqb4grmgRSeYS6Lzi1Bi1ZzgdSTLY+M5Z1epK0Vhnw/\u001b[0m\u001b[32mMIMkNJvkMu3Y1k\u001b[0m\u001b[32m='\u001b[0m,\n",
       "        \u001b[32m'HTTPStatusCode'\u001b[0m: \u001b[1;36m200\u001b[0m,\n",
       "        \u001b[32m'HTTPHeaders'\u001b[0m: \u001b[1m{\u001b[0m\n",
       "            \u001b[32m'x-amz-id-2'\u001b[0m: \u001b[32m'icMX1F0mBDNCneSB/SJqb4grmgRSeYS6Lzi1Bi1ZzgdSTLY+M5Z1epK0Vhnw/\u001b[0m\u001b[32mMIMkNJvkMu3Y1k\u001b[0m\u001b[32m='\u001b[0m,\n",
       "            \u001b[32m'x-amz-request-id'\u001b[0m: \u001b[32m'15YAMC09CY3XJ80Y'\u001b[0m,\n",
       "            \u001b[32m'date'\u001b[0m: \u001b[32m'Thu, 05 Sep 2024 03:30:06 GMT'\u001b[0m,\n",
       "            \u001b[32m'x-amz-server-side-encryption'\u001b[0m: \u001b[32m'AES256'\u001b[0m,\n",
       "            \u001b[32m'etag'\u001b[0m: \u001b[32m'\"c5a01ee632fac2f88da9e0aa5a3d8cdd\"'\u001b[0m,\n",
       "            \u001b[32m'server'\u001b[0m: \u001b[32m'AmazonS3'\u001b[0m,\n",
       "            \u001b[32m'content-length'\u001b[0m: \u001b[32m'0'\u001b[0m\n",
       "        \u001b[1m}\u001b[0m,\n",
       "        \u001b[32m'RetryAttempts'\u001b[0m: \u001b[1;36m0\u001b[0m\n",
       "    \u001b[1m}\u001b[0m,\n",
       "    \u001b[32m'ETag'\u001b[0m: \u001b[32m'\"c5a01ee632fac2f88da9e0aa5a3d8cdd\"'\u001b[0m,\n",
       "    \u001b[32m'ServerSideEncryption'\u001b[0m: \u001b[32m'AES256'\u001b[0m\n",
       "\u001b[1m}\u001b[0m\n"
      ]
     },
     "metadata": {},
     "output_type": "display_data"
    },
    {
     "data": {
      "text/html": [
       "<pre style=\"white-space:pre;overflow-x:auto;line-height:normal;font-family:Menlo,'DejaVu Sans Mono',consolas,'Courier New',monospace\">Content of updated object <span style=\"color: #008000; text-decoration-color: #008000\">'example/object/file.txt'</span>:\n",
       "This is updated content.\n",
       "</pre>\n"
      ],
      "text/plain": [
       "Content of updated object \u001b[32m'example/object/file.txt'\u001b[0m:\n",
       "This is updated content.\n"
      ]
     },
     "metadata": {},
     "output_type": "display_data"
    }
   ],
   "source": [
    "new_content = \"This is updated content.\"\n",
    "\n",
    "# the \"PUT object\" command is an upsert, so it will overwrite existing files\n",
    "response = write_text_object_to_s3(BUCKET_NAME, EXAMPLE_OBJECT_KEY, new_content)\n",
    "print(response)\n",
    "\n",
    "# Read the updated content of the object\n",
    "updated_content = read_text_object_from_s3(BUCKET_NAME, EXAMPLE_OBJECT_KEY)\n",
    "if updated_content:\n",
    "    print(f\"Content of updated object '{EXAMPLE_OBJECT_KEY}':\\n{updated_content}\")"
   ]
  },
  {
   "cell_type": "markdown",
   "metadata": {},
   "source": [
    "## Exercise #3 - Delete the object from the bucket\n",
    "\n",
    "In this exercise, you will delete an object from the S3 bucket."
   ]
  },
  {
   "cell_type": "code",
   "execution_count": 8,
   "metadata": {},
   "outputs": [
    {
     "data": {
      "text/html": [
       "<pre style=\"white-space:pre;overflow-x:auto;line-height:normal;font-family:Menlo,'DejaVu Sans Mono',consolas,'Courier New',monospace\"><span style=\"font-weight: bold\">{</span>\n",
       "    <span style=\"color: #008000; text-decoration-color: #008000\">'ResponseMetadata'</span>: <span style=\"font-weight: bold\">{</span>\n",
       "        <span style=\"color: #008000; text-decoration-color: #008000\">'RequestId'</span>: <span style=\"color: #008000; text-decoration-color: #008000\">'H8SWPERNB9DSBAY5'</span>,\n",
       "        <span style=\"color: #008000; text-decoration-color: #008000\">'HostId'</span>: <span style=\"color: #008000; text-decoration-color: #008000\">'+Nyli5llIWCsXucIkDkoFOEgkP695SFg06o80qLSDX9OMcX8Qg8dkO9Ulrlql0AqMxSO9h72Pb0='</span>,\n",
       "        <span style=\"color: #008000; text-decoration-color: #008000\">'HTTPStatusCode'</span>: <span style=\"color: #008080; text-decoration-color: #008080; font-weight: bold\">204</span>,\n",
       "        <span style=\"color: #008000; text-decoration-color: #008000\">'HTTPHeaders'</span>: <span style=\"font-weight: bold\">{</span>\n",
       "            <span style=\"color: #008000; text-decoration-color: #008000\">'x-amz-id-2'</span>: <span style=\"color: #008000; text-decoration-color: #008000\">'+Nyli5llIWCsXucIkDkoFOEgkP695SFg06o80qLSDX9OMcX8Qg8dkO9Ulrlql0AqMxSO9h72Pb0='</span>,\n",
       "            <span style=\"color: #008000; text-decoration-color: #008000\">'x-amz-request-id'</span>: <span style=\"color: #008000; text-decoration-color: #008000\">'H8SWPERNB9DSBAY5'</span>,\n",
       "            <span style=\"color: #008000; text-decoration-color: #008000\">'date'</span>: <span style=\"color: #008000; text-decoration-color: #008000\">'Thu, 05 Sep 2024 03:30:08 GMT'</span>,\n",
       "            <span style=\"color: #008000; text-decoration-color: #008000\">'server'</span>: <span style=\"color: #008000; text-decoration-color: #008000\">'AmazonS3'</span>\n",
       "        <span style=\"font-weight: bold\">}</span>,\n",
       "        <span style=\"color: #008000; text-decoration-color: #008000\">'RetryAttempts'</span>: <span style=\"color: #008080; text-decoration-color: #008080; font-weight: bold\">0</span>\n",
       "    <span style=\"font-weight: bold\">}</span>\n",
       "<span style=\"font-weight: bold\">}</span>\n",
       "</pre>\n"
      ],
      "text/plain": [
       "\u001b[1m{\u001b[0m\n",
       "    \u001b[32m'ResponseMetadata'\u001b[0m: \u001b[1m{\u001b[0m\n",
       "        \u001b[32m'RequestId'\u001b[0m: \u001b[32m'H8SWPERNB9DSBAY5'\u001b[0m,\n",
       "        \u001b[32m'HostId'\u001b[0m: \u001b[32m'+Nyli5llIWCsXucIkDkoFOEgk\u001b[0m\u001b[32mP695SFg06o80qLSDX9OMcX8Qg8dkO9Ulrlql0AqMxSO9h72Pb0\u001b[0m\u001b[32m='\u001b[0m,\n",
       "        \u001b[32m'HTTPStatusCode'\u001b[0m: \u001b[1;36m204\u001b[0m,\n",
       "        \u001b[32m'HTTPHeaders'\u001b[0m: \u001b[1m{\u001b[0m\n",
       "            \u001b[32m'x-amz-id-2'\u001b[0m: \u001b[32m'+Nyli5llIWCsXucIkDkoFOEgk\u001b[0m\u001b[32mP695SFg06o80qLSDX9OMcX8Qg8dkO9Ulrlql0AqMxSO9h72Pb0\u001b[0m\u001b[32m='\u001b[0m,\n",
       "            \u001b[32m'x-amz-request-id'\u001b[0m: \u001b[32m'H8SWPERNB9DSBAY5'\u001b[0m,\n",
       "            \u001b[32m'date'\u001b[0m: \u001b[32m'Thu, 05 Sep 2024 03:30:08 GMT'\u001b[0m,\n",
       "            \u001b[32m'server'\u001b[0m: \u001b[32m'AmazonS3'\u001b[0m\n",
       "        \u001b[1m}\u001b[0m,\n",
       "        \u001b[32m'RetryAttempts'\u001b[0m: \u001b[1;36m0\u001b[0m\n",
       "    \u001b[1m}\u001b[0m\n",
       "\u001b[1m}\u001b[0m\n"
      ]
     },
     "metadata": {},
     "output_type": "display_data"
    }
   ],
   "source": [
    "try:\n",
    "    from mypy_boto3_s3.type_defs import DeleteObjectOutputTypeDef\n",
    "except ImportError:\n",
    "    print(\"boto3-stubs[s3] not installed\")\n",
    "\n",
    "\n",
    "def delete_object_from_s3(\n",
    "    bucket_name: str,\n",
    "    object_key: str,\n",
    ") -> Optional[\"DeleteObjectOutputTypeDef\"]:\n",
    "    \"\"\"\n",
    "    Delete an object from an S3 bucket.\n",
    "\n",
    "    :param bucket_name: Name of the bucket to delete the object from\n",
    "    :param object_key: Key of the object to delete\n",
    "    :return: Response from the delete_object call\n",
    "    \"\"\"\n",
    "    response = s3_client.delete_object(Bucket=bucket_name, Key=object_key)\n",
    "    return response\n",
    "\n",
    "\n",
    "# Delete the example object\n",
    "response = delete_object_from_s3(bucket_name=BUCKET_NAME, object_key=EXAMPLE_OBJECT_KEY)\n",
    "print(response)"
   ]
  },
  {
   "cell_type": "markdown",
   "metadata": {},
   "source": [
    "## Exercise #4 - Try to read a non-existent object\n",
    "\n",
    "In this exercise, you will attempt to read a non-existent object from the S3 bucket. \n",
    "\n",
    "Catch, suppress, and print the `ClientError` exception that is raised when you try to read a non-existent object."
   ]
  },
  {
   "cell_type": "code",
   "execution_count": 9,
   "metadata": {},
   "outputs": [
    {
     "data": {
      "text/html": [
       "<pre style=\"white-space:pre;overflow-x:auto;line-height:normal;font-family:Menlo,'DejaVu Sans Mono',consolas,'Courier New',monospace\">Trying to read the deleted object at <span style=\"color: #008000; text-decoration-color: #008000\">'s3://cloud-course-bucket-bf30/example/object/file.txt'</span> <span style=\"color: #808000; text-decoration-color: #808000\">...</span>\n",
       "</pre>\n"
      ],
      "text/plain": [
       "Trying to read the deleted object at \u001b[32m's3://cloud-course-bucket-bf30/example/object/file.txt'\u001b[0m \u001b[33m...\u001b[0m\n"
      ]
     },
     "metadata": {},
     "output_type": "display_data"
    }
   ],
   "source": [
    "print(f\"Trying to read the deleted object at 's3://{BUCKET_NAME}/{EXAMPLE_OBJECT_KEY}' ...\")\n",
    "\n",
    "delete_object_from_s3(bucket_name=BUCKET_NAME, object_key=EXAMPLE_OBJECT_KEY)\n",
    "\n",
    "try:\n",
    "    # try to read the deleted object\n",
    "    read_text_object_from_s3(BUCKET_NAME, EXAMPLE_OBJECT_KEY)\n",
    "except ClientError as err:\n",
    "    assert \"NoSuchKey\" in str(err)"
   ]
  },
  {
   "cell_type": "markdown",
   "metadata": {},
   "source": [
    "## Exercise #5 - Try to delete a non-existent object\n",
    "\n",
    "**Note:** the result of calling `s3_client.delete_object` on a non-existent object is not what you might expect. It succeeds whether or not there exists an object with the given key.\n",
    "\n",
    "**Note:** The HTTP status code `204` means `No Content`. Or in other words, the request is successful\n",
    "but there was nothing to delete."
   ]
  },
  {
   "cell_type": "code",
   "execution_count": 10,
   "metadata": {},
   "outputs": [
    {
     "data": {
      "text/html": [
       "<pre style=\"white-space:pre;overflow-x:auto;line-height:normal;font-family:Menlo,'DejaVu Sans Mono',consolas,'Courier New',monospace\"><span style=\"font-weight: bold\">{</span>\n",
       "    <span style=\"color: #008000; text-decoration-color: #008000\">'ResponseMetadata'</span>: <span style=\"font-weight: bold\">{</span>\n",
       "        <span style=\"color: #008000; text-decoration-color: #008000\">'RequestId'</span>: <span style=\"color: #008000; text-decoration-color: #008000\">'P8R01ANYHJKNMFVN'</span>,\n",
       "        <span style=\"color: #008000; text-decoration-color: #008000\">'HostId'</span>: <span style=\"color: #008000; text-decoration-color: #008000\">'/r3bq4yp0BxXE7wyEpd2l4A95PAYYyfM0BSCpYpwYI3Q/t5QEYudOGQs1r4onGC7Ubo0n0Tt4fY='</span>,\n",
       "        <span style=\"color: #008000; text-decoration-color: #008000\">'HTTPStatusCode'</span>: <span style=\"color: #008080; text-decoration-color: #008080; font-weight: bold\">204</span>,\n",
       "        <span style=\"color: #008000; text-decoration-color: #008000\">'HTTPHeaders'</span>: <span style=\"font-weight: bold\">{</span>\n",
       "            <span style=\"color: #008000; text-decoration-color: #008000\">'x-amz-id-2'</span>: <span style=\"color: #008000; text-decoration-color: #008000\">'/r3bq4yp0BxXE7wyEpd2l4A95PAYYyfM0BSCpYpwYI3Q/t5QEYudOGQs1r4onGC7Ubo0n0Tt4fY='</span>,\n",
       "            <span style=\"color: #008000; text-decoration-color: #008000\">'x-amz-request-id'</span>: <span style=\"color: #008000; text-decoration-color: #008000\">'P8R01ANYHJKNMFVN'</span>,\n",
       "            <span style=\"color: #008000; text-decoration-color: #008000\">'date'</span>: <span style=\"color: #008000; text-decoration-color: #008000\">'Thu, 05 Sep 2024 03:30:12 GMT'</span>,\n",
       "            <span style=\"color: #008000; text-decoration-color: #008000\">'server'</span>: <span style=\"color: #008000; text-decoration-color: #008000\">'AmazonS3'</span>\n",
       "        <span style=\"font-weight: bold\">}</span>,\n",
       "        <span style=\"color: #008000; text-decoration-color: #008000\">'RetryAttempts'</span>: <span style=\"color: #008080; text-decoration-color: #008080; font-weight: bold\">0</span>\n",
       "    <span style=\"font-weight: bold\">}</span>\n",
       "<span style=\"font-weight: bold\">}</span>\n",
       "</pre>\n"
      ],
      "text/plain": [
       "\u001b[1m{\u001b[0m\n",
       "    \u001b[32m'ResponseMetadata'\u001b[0m: \u001b[1m{\u001b[0m\n",
       "        \u001b[32m'RequestId'\u001b[0m: \u001b[32m'P8R01ANYHJKNMFVN'\u001b[0m,\n",
       "        \u001b[32m'HostId'\u001b[0m: \u001b[32m'/r3bq4yp0BxXE7wyEpd2l4A95PAYYyfM0BSCpYpwYI3Q/\u001b[0m\u001b[32mt5QEYudOGQs1r4onGC7Ubo0n0Tt4fY\u001b[0m\u001b[32m='\u001b[0m,\n",
       "        \u001b[32m'HTTPStatusCode'\u001b[0m: \u001b[1;36m204\u001b[0m,\n",
       "        \u001b[32m'HTTPHeaders'\u001b[0m: \u001b[1m{\u001b[0m\n",
       "            \u001b[32m'x-amz-id-2'\u001b[0m: \u001b[32m'/r3bq4yp0BxXE7wyEpd2l4A95PAYYyfM0BSCpYpwYI3Q/\u001b[0m\u001b[32mt5QEYudOGQs1r4onGC7Ubo0n0Tt4fY\u001b[0m\u001b[32m='\u001b[0m,\n",
       "            \u001b[32m'x-amz-request-id'\u001b[0m: \u001b[32m'P8R01ANYHJKNMFVN'\u001b[0m,\n",
       "            \u001b[32m'date'\u001b[0m: \u001b[32m'Thu, 05 Sep 2024 03:30:12 GMT'\u001b[0m,\n",
       "            \u001b[32m'server'\u001b[0m: \u001b[32m'AmazonS3'\u001b[0m\n",
       "        \u001b[1m}\u001b[0m,\n",
       "        \u001b[32m'RetryAttempts'\u001b[0m: \u001b[1;36m0\u001b[0m\n",
       "    \u001b[1m}\u001b[0m\n",
       "\u001b[1m}\u001b[0m\n"
      ]
     },
     "metadata": {},
     "output_type": "display_data"
    }
   ],
   "source": [
    "non_existant_object_key = EXAMPLE_OBJECT_KEY + \"_non_existent\"\n",
    "\n",
    "# delete the non-existent object ...\n",
    "response = delete_object_from_s3(bucket_name=BUCKET_NAME, object_key=non_existant_object_key)\n",
    "\n",
    "print(response)"
   ]
  },
  {
   "cell_type": "markdown",
   "metadata": {},
   "source": [
    "## Exercise #6 - Error handling when deleting an object\n",
    "\n",
    "In this exercise, you will implement error handling to raise a `FileNotFoundError` if you try to delete a non-existent object, i.e., one that has already been deleted or was never written.\n",
    "\n",
    "Hint, the `s3_client.head_object(...)` method raises an error with status code `404 - File Not Found`\n",
    "if no file exists for the given object key."
   ]
  },
  {
   "cell_type": "code",
   "execution_count": 11,
   "metadata": {},
   "outputs": [
    {
     "data": {
      "text/html": [
       "<pre style=\"white-space:pre;overflow-x:auto;line-height:normal;font-family:Menlo,'DejaVu Sans Mono',consolas,'Courier New',monospace\">The object example/object/file.txt does not exist in bucket cloud-course-bucket-bf30.\n",
       "</pre>\n"
      ],
      "text/plain": [
       "The object example/object/file.txt does not exist in bucket cloud-course-bucket-bf30.\n"
      ]
     },
     "metadata": {},
     "output_type": "display_data"
    }
   ],
   "source": [
    "HTTP_FILE_NOT_FOUND_ERROR_CODE = \"404\"\n",
    "\n",
    "\n",
    "class S3FileNotFoundError(Exception):\n",
    "    \"\"\"Raise this exception when an object at a given path is not found in S3.\"\"\"\n",
    "\n",
    "\n",
    "def delete_object_or_error_if_not_exists(bucket_name: str, object_key: str) -> None:\n",
    "    \"\"\"\n",
    "    Delete an object from an S3 bucket with error handling for non-existent objects.\n",
    "\n",
    "    :param bucket_name: Name of the bucket to delete the object from\n",
    "    :param object_key: Key of the object to delete\n",
    "\n",
    "    :raises S3FileNotFoundError: if no object exists at the given path\n",
    "    :raises ClientError: if an unexpected error occurs when using S3 that is not due to file not found\n",
    "    \"\"\"\n",
    "    try:\n",
    "        # Check if the object exists\n",
    "        s3_client.head_object(Bucket=bucket_name, Key=object_key)\n",
    "\n",
    "        # If the object exists, delete it\n",
    "        s3_client.delete_object(Bucket=bucket_name, Key=object_key)\n",
    "    except ClientError as err:\n",
    "        # If a 404 error is thrown, the object does not exist\n",
    "        err_is_due_to_file_not_found = err.response[\"Error\"][\"Code\"] == HTTP_FILE_NOT_FOUND_ERROR_CODE\n",
    "        if err_is_due_to_file_not_found:\n",
    "            raise S3FileNotFoundError(f\"The object {object_key} does not exist in bucket {bucket_name}.\")\n",
    "        else:\n",
    "            # Re-raise the exception if it's a different error\n",
    "            raise\n",
    "\n",
    "\n",
    "# Try to delete the non-existent example object with error handling\n",
    "try:\n",
    "    delete_object_or_error_if_not_exists(BUCKET_NAME, EXAMPLE_OBJECT_KEY)\n",
    "except S3FileNotFoundError as err:\n",
    "    print(err)"
   ]
  },
  {
   "cell_type": "markdown",
   "metadata": {},
   "source": [
    "## Exercise #7 - List objects in the bucket to confirm they were deleted in the previous exercises\n",
    "\n",
    "In this exercise, you will list all objects in the S3 bucket to confirm that the object has been deleted."
   ]
  },
  {
   "cell_type": "code",
   "execution_count": 12,
   "metadata": {},
   "outputs": [
    {
     "data": {
      "text/html": [
       "<pre style=\"white-space:pre;overflow-x:auto;line-height:normal;font-family:Menlo,'DejaVu Sans Mono',consolas,'Courier New',monospace\">Objects in bucket:\n",
       "</pre>\n"
      ],
      "text/plain": [
       "Objects in bucket:\n"
      ]
     },
     "metadata": {},
     "output_type": "display_data"
    },
    {
     "data": {
      "text/html": [
       "<pre style=\"white-space:pre;overflow-x:auto;line-height:normal;font-family:Menlo,'DejaVu Sans Mono',consolas,'Courier New',monospace\"> - example-a/object/file1.txt\n",
       "</pre>\n"
      ],
      "text/plain": [
       " - example-a/object/file1.txt\n"
      ]
     },
     "metadata": {},
     "output_type": "display_data"
    },
    {
     "data": {
      "text/html": [
       "<pre style=\"white-space:pre;overflow-x:auto;line-height:normal;font-family:Menlo,'DejaVu Sans Mono',consolas,'Courier New',monospace\"> - example-a/object/file2.txt\n",
       "</pre>\n"
      ],
      "text/plain": [
       " - example-a/object/file2.txt\n"
      ]
     },
     "metadata": {},
     "output_type": "display_data"
    },
    {
     "data": {
      "text/html": [
       "<pre style=\"white-space:pre;overflow-x:auto;line-height:normal;font-family:Menlo,'DejaVu Sans Mono',consolas,'Courier New',monospace\"> - example-a/object/file3.txt\n",
       "</pre>\n"
      ],
      "text/plain": [
       " - example-a/object/file3.txt\n"
      ]
     },
     "metadata": {},
     "output_type": "display_data"
    },
    {
     "data": {
      "text/html": [
       "<pre style=\"white-space:pre;overflow-x:auto;line-height:normal;font-family:Menlo,'DejaVu Sans Mono',consolas,'Courier New',monospace\"> - example-b/object/file1.txt\n",
       "</pre>\n"
      ],
      "text/plain": [
       " - example-b/object/file1.txt\n"
      ]
     },
     "metadata": {},
     "output_type": "display_data"
    },
    {
     "data": {
      "text/html": [
       "<pre style=\"white-space:pre;overflow-x:auto;line-height:normal;font-family:Menlo,'DejaVu Sans Mono',consolas,'Courier New',monospace\"> - example-b/object/file2.txt\n",
       "</pre>\n"
      ],
      "text/plain": [
       " - example-b/object/file2.txt\n"
      ]
     },
     "metadata": {},
     "output_type": "display_data"
    },
    {
     "data": {
      "text/html": [
       "<pre style=\"white-space:pre;overflow-x:auto;line-height:normal;font-family:Menlo,'DejaVu Sans Mono',consolas,'Courier New',monospace\"> - example-b/object/file3.txt\n",
       "</pre>\n"
      ],
      "text/plain": [
       " - example-b/object/file3.txt\n"
      ]
     },
     "metadata": {},
     "output_type": "display_data"
    }
   ],
   "source": [
    "# List all objects in the bucket\n",
    "objects = list_all_object_keys_in_bucket(BUCKET_NAME)\n",
    "if objects:\n",
    "    print(\"Objects in bucket:\")\n",
    "    for obj in objects:\n",
    "        print(f\" - {obj}\")\n",
    "else:\n",
    "    print(\"Bucket is empty.\")"
   ]
  },
  {
   "cell_type": "markdown",
   "metadata": {},
   "source": [
    "## Exercise 8 - List objects by prefix\n",
    "\n",
    "In this exercise, you will list objects in the S3 bucket by prefix."
   ]
  },
  {
   "cell_type": "code",
   "execution_count": 13,
   "metadata": {},
   "outputs": [
    {
     "data": {
      "text/html": [
       "<pre style=\"white-space:pre;overflow-x:auto;line-height:normal;font-family:Menlo,'DejaVu Sans Mono',consolas,'Courier New',monospace\">Objects with prefix <span style=\"color: #008000; text-decoration-color: #008000\">'example-a/'</span>:\n",
       "</pre>\n"
      ],
      "text/plain": [
       "Objects with prefix \u001b[32m'example-a/'\u001b[0m:\n"
      ]
     },
     "metadata": {},
     "output_type": "display_data"
    },
    {
     "data": {
      "text/html": [
       "<pre style=\"white-space:pre;overflow-x:auto;line-height:normal;font-family:Menlo,'DejaVu Sans Mono',consolas,'Courier New',monospace\"> - example-a/object/file1.txt\n",
       "</pre>\n"
      ],
      "text/plain": [
       " - example-a/object/file1.txt\n"
      ]
     },
     "metadata": {},
     "output_type": "display_data"
    },
    {
     "data": {
      "text/html": [
       "<pre style=\"white-space:pre;overflow-x:auto;line-height:normal;font-family:Menlo,'DejaVu Sans Mono',consolas,'Courier New',monospace\"> - example-a/object/file2.txt\n",
       "</pre>\n"
      ],
      "text/plain": [
       " - example-a/object/file2.txt\n"
      ]
     },
     "metadata": {},
     "output_type": "display_data"
    },
    {
     "data": {
      "text/html": [
       "<pre style=\"white-space:pre;overflow-x:auto;line-height:normal;font-family:Menlo,'DejaVu Sans Mono',consolas,'Courier New',monospace\"> - example-a/object/file3.txt\n",
       "</pre>\n"
      ],
      "text/plain": [
       " - example-a/object/file3.txt\n"
      ]
     },
     "metadata": {},
     "output_type": "display_data"
    }
   ],
   "source": [
    "def list_all_objects_in_bucket_by_prefix(bucket_name: str, prefix: str) -> list[str]:\n",
    "    \"\"\"\n",
    "    List objects in an S3 bucket by prefix.\n",
    "\n",
    "    :param bucket_name: Name of the bucket to list objects from\n",
    "    :param prefix: Prefix to filter objects by\n",
    "    :return: List of object keys\n",
    "    \"\"\"\n",
    "    try:\n",
    "        objects = []\n",
    "        continuation_token = None\n",
    "        while True:\n",
    "            response: \"ListObjectsV2OutputTypeDef\" = (\n",
    "                s3_client.list_objects_v2(Bucket=bucket_name, Prefix=prefix, ContinuationToken=continuation_token)\n",
    "                if continuation_token\n",
    "                else s3_client.list_objects_v2(Bucket=bucket_name, Prefix=prefix)\n",
    "            )\n",
    "            objects.extend([obj[\"Key\"] for obj in response.get(\"Contents\", [])])\n",
    "            continuation_token = response.get(\"NextContinuationToken\")\n",
    "            if not continuation_token:\n",
    "                break\n",
    "        return objects\n",
    "    except ClientError as err:\n",
    "        print(f\"Failed to list objects by prefix: {err}\")\n",
    "\n",
    "\n",
    "# List objects by prefix\n",
    "prefix = \"example-a/\"\n",
    "objects_by_prefix = list_all_objects_in_bucket_by_prefix(BUCKET_NAME, prefix)\n",
    "if objects_by_prefix:\n",
    "    print(f\"Objects with prefix '{prefix}':\")\n",
    "    for obj in objects_by_prefix:\n",
    "        print(f\" - {obj}\")\n",
    "else:\n",
    "    print(f\"No objects found with prefix '{prefix}'.\")"
   ]
  },
  {
   "cell_type": "markdown",
   "metadata": {},
   "source": [
    "## Exercise 9 - Delete a bucket, no matter what!\n",
    "\n",
    "In this exercise, you will delete the S3 bucket. Your bucket may have objects in it. Does that matter?\n",
    "\n",
    "Write a function to delete your bucket. \n",
    "\n",
    "***Be careful to point it at the right bucket using the right\n",
    "AWS credentials--or you might delete the wrong bucket!***"
   ]
  },
  {
   "cell_type": "code",
   "execution_count": 14,
   "metadata": {},
   "outputs": [
    {
     "data": {
      "text/html": [
       "<pre style=\"white-space:pre;overflow-x:auto;line-height:normal;font-family:Menlo,'DejaVu Sans Mono',consolas,'Courier New',monospace\"><span style=\"font-weight: bold\">{</span>\n",
       "    <span style=\"color: #008000; text-decoration-color: #008000\">'ResponseMetadata'</span>: <span style=\"font-weight: bold\">{</span>\n",
       "        <span style=\"color: #008000; text-decoration-color: #008000\">'RequestId'</span>: <span style=\"color: #008000; text-decoration-color: #008000\">'DYA0T6MK26AV64VK'</span>,\n",
       "        <span style=\"color: #008000; text-decoration-color: #008000\">'HostId'</span>: <span style=\"color: #008000; text-decoration-color: #008000\">'Pxcw6zpqWistngp2SNiDWvoKfvtEw7KfRYJ0PFJUVJYn1hdrylu6G771CD5IpEyv7hsT8uLHeEtBGd31Q3V6Pw=='</span>,\n",
       "        <span style=\"color: #008000; text-decoration-color: #008000\">'HTTPStatusCode'</span>: <span style=\"color: #008080; text-decoration-color: #008080; font-weight: bold\">204</span>,\n",
       "        <span style=\"color: #008000; text-decoration-color: #008000\">'HTTPHeaders'</span>: <span style=\"font-weight: bold\">{</span>\n",
       "            <span style=\"color: #008000; text-decoration-color: #008000\">'x-amz-id-2'</span>: \n",
       "<span style=\"color: #008000; text-decoration-color: #008000\">'Pxcw6zpqWistngp2SNiDWvoKfvtEw7KfRYJ0PFJUVJYn1hdrylu6G771CD5IpEyv7hsT8uLHeEtBGd31Q3V6Pw=='</span>,\n",
       "            <span style=\"color: #008000; text-decoration-color: #008000\">'x-amz-request-id'</span>: <span style=\"color: #008000; text-decoration-color: #008000\">'DYA0T6MK26AV64VK'</span>,\n",
       "            <span style=\"color: #008000; text-decoration-color: #008000\">'date'</span>: <span style=\"color: #008000; text-decoration-color: #008000\">'Thu, 05 Sep 2024 03:33:35 GMT'</span>,\n",
       "            <span style=\"color: #008000; text-decoration-color: #008000\">'server'</span>: <span style=\"color: #008000; text-decoration-color: #008000\">'AmazonS3'</span>\n",
       "        <span style=\"font-weight: bold\">}</span>,\n",
       "        <span style=\"color: #008000; text-decoration-color: #008000\">'RetryAttempts'</span>: <span style=\"color: #008080; text-decoration-color: #008080; font-weight: bold\">0</span>\n",
       "    <span style=\"font-weight: bold\">}</span>\n",
       "<span style=\"font-weight: bold\">}</span>\n",
       "</pre>\n"
      ],
      "text/plain": [
       "\u001b[1m{\u001b[0m\n",
       "    \u001b[32m'ResponseMetadata'\u001b[0m: \u001b[1m{\u001b[0m\n",
       "        \u001b[32m'RequestId'\u001b[0m: \u001b[32m'DYA0T6MK26AV64VK'\u001b[0m,\n",
       "        \u001b[32m'HostId'\u001b[0m: \u001b[32m'Pxcw6zpqWistngp2SNiDWvoKfvtEw7KfRYJ0\u001b[0m\u001b[32mPFJUVJYn1hdrylu6G771CD5IpEyv7hsT8uLHeEtBGd31Q3V6Pw\u001b[0m\u001b[32m=='\u001b[0m,\n",
       "        \u001b[32m'HTTPStatusCode'\u001b[0m: \u001b[1;36m204\u001b[0m,\n",
       "        \u001b[32m'HTTPHeaders'\u001b[0m: \u001b[1m{\u001b[0m\n",
       "            \u001b[32m'x-amz-id-2'\u001b[0m: \n",
       "\u001b[32m'Pxcw6zpqWistngp2SNiDWvoKfvtEw7KfRYJ0\u001b[0m\u001b[32mPFJUVJYn1hdrylu6G771CD5IpEyv7hsT8uLHeEtBGd31Q3V6Pw\u001b[0m\u001b[32m=='\u001b[0m,\n",
       "            \u001b[32m'x-amz-request-id'\u001b[0m: \u001b[32m'DYA0T6MK26AV64VK'\u001b[0m,\n",
       "            \u001b[32m'date'\u001b[0m: \u001b[32m'Thu, 05 Sep 2024 03:33:35 GMT'\u001b[0m,\n",
       "            \u001b[32m'server'\u001b[0m: \u001b[32m'AmazonS3'\u001b[0m\n",
       "        \u001b[1m}\u001b[0m,\n",
       "        \u001b[32m'RetryAttempts'\u001b[0m: \u001b[1;36m0\u001b[0m\n",
       "    \u001b[1m}\u001b[0m\n",
       "\u001b[1m}\u001b[0m\n"
      ]
     },
     "metadata": {},
     "output_type": "display_data"
    }
   ],
   "source": [
    "import boto3\n",
    "from botocore.exceptions import ClientError\n",
    "\n",
    "try:\n",
    "    from mypy_boto3_s3.type_defs import EmptyResponseMetadataTypeDef\n",
    "except ImportError:\n",
    "    print(\"boto3-stubs[s3] not installed\")\n",
    "\n",
    "\n",
    "def delete_bucket(bucket_name: str) -> Optional[\"EmptyResponseMetadataTypeDef\"]:\n",
    "    \"\"\"\n",
    "    Delete an S3 bucket, including all its objects.\n",
    "\n",
    "    If the bucket does not exist, no error is raised.\n",
    "\n",
    "    :param bucket_name: Name of the bucket to delete\n",
    "    :return: Response from the delete_bucket call or None if there is no bucket.\n",
    "    \"\"\"\n",
    "    # First, delete all objects in the bucket\n",
    "    delete_all_objects_in_bucket(bucket_name)\n",
    "\n",
    "    # Then, delete the bucket itself\n",
    "    try:\n",
    "        response: \"EmptyResponseMetadataTypeDef\" = s3_client.delete_bucket(Bucket=bucket_name)\n",
    "        return response\n",
    "    except ClientError as err:\n",
    "        if \"NoSuchBucket\" in str(err):\n",
    "            return\n",
    "        raise\n",
    "\n",
    "\n",
    "def delete_all_objects_in_bucket(bucket_name: str) -> None:\n",
    "    \"\"\"\n",
    "    Delete all objects in an S3 bucket.\n",
    "\n",
    "    If the bucket does not exist, no error is raised.\n",
    "\n",
    "    :param bucket_name: Name of the bucket to delete objects from\n",
    "    \"\"\"\n",
    "    try:\n",
    "        object_keys = list_all_object_keys_in_bucket(bucket_name)\n",
    "    except ClientError as err:\n",
    "        if \"NoSuchBucket\" in str(err):\n",
    "            return\n",
    "        raise\n",
    "\n",
    "    for object_key in object_keys:\n",
    "        s3_client.delete_object(Bucket=bucket_name, Key=object_key)\n",
    "\n",
    "\n",
    "response = delete_bucket(BUCKET_NAME)\n",
    "print(response)"
   ]
  },
  {
   "cell_type": "markdown",
   "metadata": {},
   "source": [
    "## (Optional) Bonus Exercise #1 - Recursively upload a local directory to S3"
   ]
  },
  {
   "cell_type": "code",
   "execution_count": 15,
   "metadata": {},
   "outputs": [
    {
     "data": {
      "text/html": [
       "<pre style=\"white-space:pre;overflow-x:auto;line-height:normal;font-family:Menlo,'DejaVu Sans Mono',consolas,'Courier New',monospace\"><span style=\"font-weight: bold\">[</span><span style=\"color: #008000; text-decoration-color: #008000\">'test-root-dir/file1.txt'</span>, <span style=\"color: #008000; text-decoration-color: #008000\">'test-root-dir/file2.txt'</span>, <span style=\"color: #008000; text-decoration-color: #008000\">'test-root-dir/subdir/file3.txt'</span><span style=\"font-weight: bold\">]</span>\n",
       "</pre>\n"
      ],
      "text/plain": [
       "\u001b[1m[\u001b[0m\u001b[32m'test-root-dir/file1.txt'\u001b[0m, \u001b[32m'test-root-dir/file2.txt'\u001b[0m, \u001b[32m'test-root-dir/subdir/file3.txt'\u001b[0m\u001b[1m]\u001b[0m\n"
      ]
     },
     "metadata": {},
     "output_type": "display_data"
    }
   ],
   "source": [
    "from pathlib import Path\n",
    "from typing import Generator\n",
    "\n",
    "\n",
    "def recursively_upload_dir_to_bucket(\n",
    "    local_dir_fpath: str | Path,\n",
    "    bucket_name: str,\n",
    "    target_root_prefix_in_bucket: str = \"\",\n",
    "):\n",
    "    \"\"\"\n",
    "    Recurse through a local directory and upload all files to S3 under a target prefix.\n",
    "\n",
    "    The object keys within the bucket should be the relative paths of the files within the local directory.\n",
    "\n",
    "    Example:\n",
    "\n",
    "    path/to/local_dir/\n",
    "    ├── file1.txt\n",
    "    ├── file2.txt\n",
    "    └── subdir\n",
    "        └── file3.txt\n",
    "\n",
    "    Would be uploaded to\n",
    "\n",
    "    s3://bucket-name/target_root_prefix_in_bucket/\n",
    "    ├── file1.txt\n",
    "    ├── file2.txt\n",
    "    └── subdir/\n",
    "        └── file3.txt\n",
    "    \"\"\"\n",
    "    local_dir_fpath = Path(local_dir_fpath)\n",
    "    child_fpaths: Generator[Path, None, None] = local_dir_fpath.rglob(\"*\")\n",
    "    target_root_prefix_in_bucket = target_root_prefix_in_bucket.rstrip(\"/\")\n",
    "\n",
    "    for child_fpath in child_fpaths:\n",
    "        if child_fpath.is_file():\n",
    "            relative_fpath = child_fpath.relative_to(local_dir_fpath)\n",
    "            object_key = str(Path(target_root_prefix_in_bucket) / relative_fpath)\n",
    "            upload_file_to_bucket(child_fpath, bucket_name, object_key)\n",
    "\n",
    "\n",
    "def upload_file_to_bucket(\n",
    "    local_fpath: str | Path,\n",
    "    bucket_name: str,\n",
    "    target_key_in_bucket: str,\n",
    "):\n",
    "    \"\"\"\n",
    "    Upload a file to an S3 bucket.\n",
    "\n",
    "    :param local_fpath: Local file path to upload\n",
    "    :param bucket_name: Name of the bucket to upload the file to\n",
    "    :param target_key_in_bucket: Key to upload the file to in the bucket\n",
    "    \"\"\"\n",
    "    local_fpath = Path(local_fpath)\n",
    "    with open(local_fpath, \"rb\") as file:\n",
    "        s3_client.put_object(Bucket=bucket_name, Key=target_key_in_bucket, Body=file)\n",
    "\n",
    "\n",
    "# create a test dir locally with sample files\n",
    "test_dir = Path(\"test_dir\")\n",
    "test_dir.mkdir(parents=True, exist_ok=True)\n",
    "(test_dir / \"file1.txt\").write_text(\"This is file 1.\")\n",
    "(test_dir / \"file2.txt\").write_text(\"This is file 2.\")\n",
    "(test_dir / \"subdir\").mkdir(parents=True, exist_ok=True)\n",
    "(test_dir / \"subdir\" / \"file3.txt\").write_text(\"This is file 3.\")\n",
    "\n",
    "# clean up the bucket\n",
    "delete_bucket(BUCKET_NAME)\n",
    "create_bucket(bucket_name=BUCKET_NAME)\n",
    "\n",
    "recursively_upload_dir_to_bucket(\n",
    "    bucket_name=BUCKET_NAME,\n",
    "    local_dir_fpath=test_dir,\n",
    "    target_root_prefix_in_bucket=\"test-root-dir/\",\n",
    ")\n",
    "\n",
    "# List all objects in the bucket at the test target root\n",
    "objects = list_all_objects_in_bucket_by_prefix(\n",
    "    bucket_name=BUCKET_NAME,\n",
    "    prefix=\"test-root-dir/\",\n",
    ")\n",
    "print(objects)"
   ]
  },
  {
   "cell_type": "code",
   "execution_count": 19,
   "metadata": {},
   "outputs": [
    {
     "data": {
      "text/plain": [
       "{'ResponseMetadata': {'RequestId': '4F2VWNEB8Q1F3FNQ',\n",
       "  'HostId': 'MVrRWGKfoM/OjGBuHNTkxZDZHQSozlWzU22km0k04Me2mhWrQFgpczsNPl5mbZiCKfs62lXcYUagkMaT7sxwBg==',\n",
       "  'HTTPStatusCode': 204,\n",
       "  'HTTPHeaders': {'x-amz-id-2': 'MVrRWGKfoM/OjGBuHNTkxZDZHQSozlWzU22km0k04Me2mhWrQFgpczsNPl5mbZiCKfs62lXcYUagkMaT7sxwBg==',\n",
       "   'x-amz-request-id': '4F2VWNEB8Q1F3FNQ',\n",
       "   'date': 'Thu, 05 Sep 2024 03:37:30 GMT',\n",
       "   'server': 'AmazonS3'},\n",
       "  'RetryAttempts': 0}}"
      ]
     },
     "execution_count": 19,
     "metadata": {},
     "output_type": "execute_result"
    }
   ],
   "source": [
    "delete_bucket(BUCKET_NAME)"
   ]
  },
  {
   "cell_type": "markdown",
   "metadata": {},
   "source": [
    "## (Optional) Bonus Exercise #2 - Rename a \"folder\" in an S3 bucket\n",
    "\n",
    "S3 is a key-value store for blobs of bytes. There is no way to \"rename\" a \"folder\" in S3\n",
    "without changing the key names of each object in the \"folder\".\n",
    "\n",
    "To really feel the weight and implications of this fact, go through this exercise 🤣\n",
    "\n",
    "Ultimately, you have to copy each object one at a time, and delete the old object. For large buckets, e.g.\n",
    "data lakes with millions of files, this is a slow process."
   ]
  },
  {
   "cell_type": "code",
   "execution_count": 18,
   "metadata": {},
   "outputs": [
    {
     "data": {
      "text/html": [
       "<pre style=\"white-space:pre;overflow-x:auto;line-height:normal;font-family:Menlo,'DejaVu Sans Mono',consolas,'Courier New',monospace\"><span style=\"font-weight: bold\">[</span>\n",
       "    <span style=\"color: #008000; text-decoration-color: #008000\">'nested/destination-folder/file1.txt'</span>,\n",
       "    <span style=\"color: #008000; text-decoration-color: #008000\">'nested/destination-folder/file2.txt'</span>,\n",
       "    <span style=\"color: #008000; text-decoration-color: #008000\">'nested/destination-folder/subdir/file3.txt'</span>\n",
       "<span style=\"font-weight: bold\">]</span>\n",
       "</pre>\n"
      ],
      "text/plain": [
       "\u001b[1m[\u001b[0m\n",
       "    \u001b[32m'nested/destination-folder/file1.txt'\u001b[0m,\n",
       "    \u001b[32m'nested/destination-folder/file2.txt'\u001b[0m,\n",
       "    \u001b[32m'nested/destination-folder/subdir/file3.txt'\u001b[0m\n",
       "\u001b[1m]\u001b[0m\n"
      ]
     },
     "metadata": {},
     "output_type": "display_data"
    }
   ],
   "source": [
    "def rename_folder_in_bucket(\n",
    "    bucket_name: str,\n",
    "    old_folder_prefix: str,\n",
    "    new_folder_prefix: str,\n",
    "):\n",
    "    \"\"\"\n",
    "    Rename a \"folder\" in an S3 bucket.\n",
    "\n",
    "    Example:\n",
    "\n",
    "    Given the following structure in S3:\n",
    "\n",
    "    s3://bucket-name/<old_folder_prefix>/\n",
    "    ├── file1.txt\n",
    "    ├── file2.txt\n",
    "    └── subdir/\n",
    "        └── file3.txt\n",
    "\n",
    "    After renaming\n",
    "\n",
    "    s3://bucket-name/<new_folder_prefix>/\n",
    "    ├── file1.txt\n",
    "    ├── file2.txt\n",
    "    └── subdir/\n",
    "        └── file3.txt\n",
    "\n",
    "    :param bucket_name: Name of the S3 bucket\n",
    "    :param source_folder: Source \"folder\" path in the bucket\n",
    "    :param destination_folder: Destination \"folder\" path in the bucket\n",
    "    \"\"\"\n",
    "    old_folder_prefix = old_folder_prefix.rstrip(\"/\") + \"/\"\n",
    "    new_folder_prefix = new_folder_prefix.rstrip(\"/\") + \"/\"\n",
    "\n",
    "    # List all objects in the source folder\n",
    "    objects = list_all_objects_in_bucket_by_prefix(bucket_name=bucket_name, prefix=old_folder_prefix)\n",
    "\n",
    "    for current_key in objects:\n",
    "        new_key = current_key.replace(old_folder_prefix, new_folder_prefix, 1)\n",
    "\n",
    "        # Move the object to the new key\n",
    "        move_object_in_bucket(bucket_name=bucket_name, source_key=current_key, destination_key=new_key)\n",
    "\n",
    "\n",
    "def move_object_in_bucket(bucket_name: str, source_key: str, destination_key: str):\n",
    "    \"\"\"\n",
    "    Move an object within an S3 bucket by copying to the new key and deleting the old key.\n",
    "\n",
    "    :param bucket_name: Name of the S3 bucket\n",
    "    :param source_key: Source key of the object to move\n",
    "    :param destination_key: Destination key of the object\n",
    "    \"\"\"\n",
    "    # Copy the object to the new key\n",
    "    s3_client.copy_object(\n",
    "        Bucket=bucket_name, CopySource={\"Bucket\": bucket_name, \"Key\": source_key}, Key=destination_key\n",
    "    )\n",
    "\n",
    "    # Delete the old object\n",
    "    s3_client.delete_object(Bucket=bucket_name, Key=source_key)\n",
    "\n",
    "\n",
    "\"\"\"Test the rename_folder_in_bucket function.\"\"\"\n",
    "\n",
    "# Create test objects in the source folder\n",
    "test_source_folder = \"nested/source-folder/\"\n",
    "test_dest_folder = \"nested/destination-folder/\"\n",
    "\n",
    "create_bucket(bucket_name=BUCKET_NAME)\n",
    "\n",
    "# Upload test files to source folder\n",
    "upload_file_to_bucket(\n",
    "    local_fpath=\"test_dir/file1.txt\", bucket_name=BUCKET_NAME, target_key_in_bucket=test_source_folder + \"file1.txt\"\n",
    ")\n",
    "upload_file_to_bucket(\n",
    "    local_fpath=\"test_dir/file2.txt\", bucket_name=BUCKET_NAME, target_key_in_bucket=test_source_folder + \"file2.txt\"\n",
    ")\n",
    "upload_file_to_bucket(\n",
    "    local_fpath=\"test_dir/subdir/file3.txt\",\n",
    "    bucket_name=BUCKET_NAME,\n",
    "    target_key_in_bucket=test_source_folder + \"subdir/file3.txt\",\n",
    ")\n",
    "\n",
    "# Rename the source folder to the destination folder\n",
    "rename_folder_in_bucket(\n",
    "    bucket_name=BUCKET_NAME,\n",
    "    old_folder_prefix=test_source_folder,\n",
    "    new_folder_prefix=test_dest_folder,\n",
    ")\n",
    "\n",
    "# List all objects in the destination folder\n",
    "objects = list_all_objects_in_bucket_by_prefix(bucket_name=BUCKET_NAME, prefix=test_dest_folder)\n",
    "print(objects)"
   ]
  }
 ],
 "metadata": {
  "kernelspec": {
   "display_name": "Python 3",
   "language": "python",
   "name": "python3"
  },
  "language_info": {
   "codemirror_mode": {
    "name": "ipython",
    "version": 3
   },
   "file_extension": ".py",
   "mimetype": "text/x-python",
   "name": "python",
   "nbconvert_exporter": "python",
   "pygments_lexer": "ipython3",
   "version": "3.11.9"
  }
 },
 "nbformat": 4,
 "nbformat_minor": 4
}
